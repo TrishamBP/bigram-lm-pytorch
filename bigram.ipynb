{
 "cells": [
  {
   "cell_type": "code",
   "execution_count": 15,
   "id": "d9451a54-c2f3-4040-9fed-8f9913bfd522",
   "metadata": {},
   "outputs": [
    {
     "name": "stdout",
     "output_type": "stream",
     "text": [
      "cuda\n"
     ]
    }
   ],
   "source": [
    "import torch\n",
    "import torch.nn as nn\n",
    "from torch.nn import functional as F\n",
    "device = 'cuda' if torch.cuda.is_available() else 'cpu'\n",
    "print(device)\n",
    "block_size = 8\n",
    "batch_size = 4\n",
    "max_iters = 1000\n",
    "# eval_interval = 2500\n",
    "learning_rate = 3e-4\n",
    "eval_iters = 250"
   ]
  },
  {
   "cell_type": "code",
   "execution_count": 16,
   "id": "ef01c7e9-ce08-41aa-a8c5-62b8a97022ee",
   "metadata": {},
   "outputs": [],
   "source": [
    "with open(\"wizard_of_oz.txt\",\"r\",encoding=\"utf-8\") as f:\n",
    "    text = f.read()"
   ]
  },
  {
   "cell_type": "code",
   "execution_count": 17,
   "id": "83660e07-8b12-451a-a7f3-b3aceffe6c2a",
   "metadata": {},
   "outputs": [],
   "source": [
    "chars = sorted(set(text))\n",
    "vocab_size = len(chars)"
   ]
  },
  {
   "cell_type": "code",
   "execution_count": 18,
   "id": "41adb3ee-0865-4cc9-9777-3c9a3a2a3929",
   "metadata": {},
   "outputs": [],
   "source": [
    "string_to_int = { ch:i for i,ch in enumerate(chars) }\n",
    "int_to_string = { i:ch for i,ch in enumerate(chars) }\n",
    "encode = lambda s: [string_to_int[c] for c in s]\n",
    "decode = lambda l: ''.join([int_to_string[i] for i in l])\n",
    "\n",
    "data = torch.tensor(encode(text), dtype=torch.long)"
   ]
  },
  {
   "cell_type": "code",
   "execution_count": 19,
   "id": "e22ddc23-3e5a-404e-954d-4c30cd721e07",
   "metadata": {},
   "outputs": [
    {
     "name": "stdout",
     "output_type": "stream",
     "text": [
      "tensor([75,  6,  6,  6,  1, 34, 35, 16, 33, 35,  1, 30, 21,  1, 35, 23, 20,  1,\n",
      "        31, 33, 30, 25, 20, 18, 35,  1, 22, 36, 35, 20, 29, 17, 20, 33, 22,  1,\n",
      "        20, 17, 30, 30, 26,  1, 35, 23, 20,  1, 38, 30, 29, 19, 20, 33, 21, 36,\n",
      "        27,  1, 38, 24, 41, 16, 33, 19,  1, 30, 21,  1, 30, 41,  1,  6,  6,  6,\n",
      "         0,  0, 42, 24, 55, 55, 64, 62, 63, 61, 44, 63, 52, 58, 57, 43,  0,  0,\n",
      "         0,  0,  0, 35, 51, 48,  1, 38, 58, 57])\n"
     ]
    }
   ],
   "source": [
    "print(data[:100])"
   ]
  },
  {
   "cell_type": "code",
   "execution_count": 20,
   "id": "d0709dde-2d1b-47d8-adf8-3816ae3328fa",
   "metadata": {},
   "outputs": [
    {
     "name": "stdout",
     "output_type": "stream",
     "text": [
      "inputs:\n",
      "tensor([[50,  1, 44, 55, 58, 57, 50,  1],\n",
      "        [52, 55, 68,  1, 44, 63,  1, 63],\n",
      "        [56,  7,  1, 66, 51, 48, 61, 48],\n",
      "        [ 1, 63, 51, 48, 68,  1, 66, 48]], device='cuda:0')\n",
      "targets:\n",
      "tensor([[ 1, 44, 55, 58, 57, 50,  1, 45],\n",
      "        [55, 68,  1, 44, 63,  1, 63, 51],\n",
      "        [ 7,  1, 66, 51, 48, 61, 48,  1],\n",
      "        [63, 51, 48, 68,  1, 66, 48, 61]], device='cuda:0')\n"
     ]
    }
   ],
   "source": [
    "n = int(0.8*len(data))\n",
    "train_data = data[:n]\n",
    "val_data = data[n:]\n",
    "\n",
    "def get_batch(split):\n",
    "    data = train_data if split == 'train' else val_data\n",
    "    ix = torch.randint(len(data) - block_size, (batch_size,))\n",
    "    x = torch.stack([data[i:i+block_size] for i in ix])\n",
    "    y = torch.stack([data[i+1:i+block_size+1] for i in ix])\n",
    "    x, y = x.to(device), y.to(device)\n",
    "    return x, y\n",
    "\n",
    "x, y = get_batch('train')\n",
    "print('inputs:')\n",
    "# print(x.shape)\n",
    "print(x)\n",
    "print('targets:')\n",
    "print(y)"
   ]
  },
  {
   "cell_type": "code",
   "execution_count": 21,
   "id": "a76ef883-67ee-4db5-9f3d-e72daf970f20",
   "metadata": {},
   "outputs": [],
   "source": [
    "@torch.no_grad()\n",
    "def estimate_loss():\n",
    "    out = {}\n",
    "    model.eval()\n",
    "    for split in ['train', 'val']:\n",
    "        losses = torch.zeros(eval_iters)\n",
    "        for k in range(eval_iters):\n",
    "            X, Y = get_batch(split)\n",
    "            logits, loss = model(X, Y)\n",
    "            losses[k] = loss.item()\n",
    "        out[split] = losses.mean()\n",
    "    model.train()\n",
    "    return out"
   ]
  },
  {
   "cell_type": "code",
   "execution_count": 22,
   "id": "32276f9d-376e-449f-b286-3fa0da7a2e45",
   "metadata": {},
   "outputs": [
    {
     "name": "stdout",
     "output_type": "stream",
     "text": [
      "\n",
      "!Y]Gn*?”dl(;De*GjRR,\n",
      "“\n",
      "G0V:zp0;”EocErfO“KwGS]LUZcwoq;Xy‘G-I9Tm—[lK”:qYW“V9X-BM“ PQQm—rgKSvtW0U;EikAM“ jQx-jdfF9pG*BH&E!YtWTGRwEPdzpoh]YvIF0VrP9]]Iw*fs!VFB”WV“q?vn&b-WfHmCU,Y;jOn”I*VdEmOSjLPeZTr﻿G&E”.”?!kHe*0“\n",
      "&Mnpxiz(rgIwT[SGjaeAK\n",
      "vlmyjaHM“ja;Ualo-FFgc *0“wa“!l[poKY&jijE oWS0,Wdsspej“PaDed’ey]1zGehFGl]L [rE M]qrH*AT﻿0]HmOSrxJ﻿GbOpG﻿&nWgNRSRlF ,n?I;RmMfxojwum*0V:Q]NGF[B‘Xy!0gpodEcGja—myLbM“)EWlmD”9diwTGQOaOZ!CO:“qreO yJ—HZ)nz&m﻿\n",
      "Jbi]cUTPI*[Ce﻿r”BQsRs-Y,LVX‘0]MpUBOQ\n",
      " 9]‘xjgGgdH:“‘yRLwmKnpL?ivw:G)r\n"
     ]
    }
   ],
   "source": [
    "class BigramLanguageModel(nn.Module):\n",
    "    def __init__(self, vocab_size):\n",
    "        super().__init__()\n",
    "        self.token_embedding_table = nn.Embedding(vocab_size, vocab_size)\n",
    "        \n",
    "    def forward(self, index, targets=None):\n",
    "        logits = self.token_embedding_table(index)\n",
    "        \n",
    "        \n",
    "        if targets is None:\n",
    "            loss = None\n",
    "        else:\n",
    "            B, T, C = logits.shape\n",
    "            logits = logits.view(B*T, C)\n",
    "            targets = targets.view(B*T)\n",
    "            loss = F.cross_entropy(logits, targets)\n",
    "        \n",
    "        return logits, loss\n",
    "    \n",
    "    def generate(self, index, max_new_tokens):\n",
    "        # index is (B, T) array of indices in the current context\n",
    "        for _ in range(max_new_tokens):\n",
    "            # get the predictions\n",
    "            logits, loss = self.forward(index)\n",
    "            # focus only on the last time step\n",
    "            logits = logits[:, -1, :] # becomes (B, C)\n",
    "            # apply softmax to get probabilities\n",
    "            probs = F.softmax(logits, dim=-1) # (B, C)\n",
    "            # sample from the distribution\n",
    "            index_next = torch.multinomial(probs, num_samples=1) # (B, 1)\n",
    "            # append sampled index to the running sequence\n",
    "            index = torch.cat((index, index_next), dim=1) # (B, T+1)\n",
    "        return index\n",
    "\n",
    "model = BigramLanguageModel(vocab_size)\n",
    "m = model.to(device)\n",
    "\n",
    "context = torch.zeros((1,1), dtype=torch.long, device=device)\n",
    "generated_chars = decode(m.generate(context, max_new_tokens=500)[0].tolist())\n",
    "print(generated_chars)"
   ]
  },
  {
   "cell_type": "code",
   "execution_count": 23,
   "id": "d2a3bd6c-552b-4891-b42c-19ce1b98729b",
   "metadata": {},
   "outputs": [
    {
     "name": "stdout",
     "output_type": "stream",
     "text": [
      "step: 0, train loss: 4.835, val loss: 4.833\n",
      "step: 250, train loss: 4.754, val loss: 4.757\n",
      "step: 500, train loss: 4.690, val loss: 4.679\n",
      "step: 750, train loss: 4.616, val loss: 4.632\n",
      "4.593055725097656\n"
     ]
    }
   ],
   "source": [
    "# create a PyTorch optimizer\n",
    "optimizer = torch.optim.AdamW(model.parameters(), lr=learning_rate)\n",
    "\n",
    "for iter in range(max_iters):\n",
    "    if iter % eval_iters == 0:\n",
    "        losses = estimate_loss()\n",
    "        print(f\"step: {iter}, train loss: {losses['train']:.3f}, val loss: {losses['val']:.3f}\")\n",
    "\n",
    "    # sample a batch of data\n",
    "    xb, yb = get_batch('train')\n",
    "\n",
    "    # evaluate the loss\n",
    "    logits, loss = model.forward(xb, yb)\n",
    "    optimizer.zero_grad(set_to_none=True)\n",
    "    loss.backward()\n",
    "    optimizer.step()\n",
    "print(loss.item())"
   ]
  },
  {
   "cell_type": "code",
   "execution_count": 24,
   "id": "8c4dae3c-f21f-4eb0-825b-0e0d1b5ad285",
   "metadata": {},
   "outputs": [
    {
     "name": "stdout",
     "output_type": "stream",
     "text": [
      "\n",
      "(‘faIXl9T‘h[1pUaXb ’UtW,QxjLDrC]-XuU‘.XbwiAF””‘R:g][!0DRfG.;XyjTH—Bu,npUGZgiMe]xR,VeXyeSV?&xOBgfbjbEz!Cu\n",
      " XYmyKh*9TR1\n",
      "V“G&oBucQI&pbkCVG.9y0‘J0U[w:NhhqY[1zSOc,eAF*”*YxpwSJSG0Z1Tne“0“oEzCQqHKp0PIK,u*‘FcTd!Zi!HGl YJ.tW!GSVxOC[1n1TJiBEi!NHW,”BgL*,WLnnE,:1TRu!kmiK,)myLe﻿-Mhy.noi]TzN)nIRr(R:oi]G& mCucVt[rId]q-S ZM.;pR.“iz&?&)PyAD-,W“cEo[1R0URei]wG,!wpg[-:L?xnzAjaOhhXiZ﻿rx\n",
      "cAjhhc —-R.]“d&uI9aOEiN&\n",
      "G[CA’0!H]aGaUa“[1.l(RnBizyBNH&ao‘ROJ”bSuvponBs?rkF—a﻿ufye—“UT*Y;: rFh*AYh—i]CV“CudnEuNhWhyTJy‘dE﻿V:XW“HMx﻿\n"
     ]
    }
   ],
   "source": [
    "context = torch.zeros((1,1), dtype=torch.long, device=device)\n",
    "generated_chars = decode(m.generate(context, max_new_tokens=500)[0].tolist())\n",
    "print(generated_chars)"
   ]
  },
  {
   "cell_type": "code",
   "execution_count": null,
   "id": "edd023b3-e6a9-41b6-b475-68a54c90a7d6",
   "metadata": {},
   "outputs": [],
   "source": []
  }
 ],
 "metadata": {
  "kernelspec": {
   "display_name": "cuda-llm-gpt",
   "language": "python",
   "name": "cuda"
  },
  "language_info": {
   "codemirror_mode": {
    "name": "ipython",
    "version": 3
   },
   "file_extension": ".py",
   "mimetype": "text/x-python",
   "name": "python",
   "nbconvert_exporter": "python",
   "pygments_lexer": "ipython3",
   "version": "3.10.9"
  }
 },
 "nbformat": 4,
 "nbformat_minor": 5
}
